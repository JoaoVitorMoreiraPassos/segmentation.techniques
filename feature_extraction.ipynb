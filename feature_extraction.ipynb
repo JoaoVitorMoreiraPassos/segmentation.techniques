{
 "cells": [
  {
   "cell_type": "code",
   "execution_count": 1,
   "id": "b4a84a21-f658-4244-a68b-ed070634841d",
   "metadata": {},
   "outputs": [
    {
     "name": "stderr",
     "output_type": "stream",
     "text": [
      "/home/mpgxc/anaconda3/lib/python3.8/site-packages/skimage/io/manage_plugins.py:23: UserWarning: Your installed pillow version is < 7.1.0. Several security issues (CVE-2020-11538, CVE-2020-10379, CVE-2020-10994, CVE-2020-10177) have been fixed in pillow 7.1.0 or higher. We recommend to upgrade this library.\n",
      "  from .collection import imread_collection_wrapper\n"
     ]
    }
   ],
   "source": [
    "import pandas as pd\n",
    "\n",
    "from matplotlib import pyplot as plt\n",
    "from skimage.io import imread\n",
    "from skimage.measure import label, regionprops_table"
   ]
  },
  {
   "cell_type": "code",
   "execution_count": 2,
   "id": "9c863d62-97af-4a91-a262-4bbde8ecec64",
   "metadata": {},
   "outputs": [],
   "source": [
    "def plot_images(images, color='gray', names=[]):\n",
    " \n",
    "    \"\"\"\n",
    "        Função para plotar array de imagens, essa função não é perfeita mas serve bem...\n",
    "    \"\"\"\n",
    "    \n",
    "    if len(names) == 0:\n",
    "        names = [\"\"] * len(images)\n",
    "        \n",
    "    if len(images) == 1:\n",
    "        plt.figure(figsize=(10, 8))\n",
    "        plt.imshow(images[0], color)\n",
    "    \n",
    "        return plt.show()\n",
    "    \n",
    "    fig, ax = plt.subplots(1,\n",
    "                           len(images), \n",
    "                           figsize=(15, 20))\n",
    "\n",
    "    for index, arr in enumerate(images):        \n",
    "        ax[index].imshow(arr, cmap=color)\n",
    "        ax[index].set_title(names[index])\n",
    "            \n",
    "    plt.show()"
   ]
  },
  {
   "cell_type": "code",
   "execution_count": 132,
   "id": "4a0ad3ac-35a9-466c-9201-e4c81a0e67f8",
   "metadata": {},
   "outputs": [],
   "source": [
    "mask = imread('images_masks_cropped/masks/002/54_mask.tif')\n",
    "mask1 = imread('images_masks_cropped/masks/002/92_mask.tif')"
   ]
  },
  {
   "cell_type": "code",
   "execution_count": 133,
   "id": "ec1b1894-9c0a-4199-9e64-b383a565aa15",
   "metadata": {},
   "outputs": [
    {
     "data": {
      "image/png": "[encoded data removed]",
      "text/plain": [
       "<Figure size 1080x1440 with 2 Axes>"
      ]
     },
     "metadata": {
      "needs_background": "light"
     },
     "output_type": "display_data"
    }
   ],
   "source": [
    "plot_images([mask, mask1])"
   ]
  },
  {
   "cell_type": "code",
   "execution_count": 134,
   "id": "4d63c1b5-c0b3-45ac-9c40-54570cd5eca6",
   "metadata": {},
   "outputs": [],
   "source": [
    "def extract_props_from_image(mask):\n",
    "    \n",
    "    label_image = label(mask)\n",
    "    \n",
    "    feature_names = ['label',\n",
    "                     'bbox_area',\n",
    "                     'solidity',\n",
    "                     'centroid', \n",
    "                     'orientation',\n",
    "                     'convex_area', \n",
    "                     'area',\n",
    "                     'convex_area',\n",
    "                     'filled_area',\n",
    "                     'eccentricity', \n",
    "                     'extent',\n",
    "                     'euler_number',\n",
    "                     'eccentricity',\n",
    "                     'major_axis_length',\n",
    "                     'feret_diameter_max',\n",
    "                     'inertia_tensor',\n",
    "                     'perimeter',\n",
    "                     'perimeter_crofton',\n",
    "                     'minor_axis_length']\n",
    "    \n",
    "    return pd.DataFrame(regionprops_table(label_image, properties=feature_names))"
   ]
  },
  {
   "cell_type": "code",
   "execution_count": 139,
   "id": "f9716efb-0c94-4b3e-8001-ab6294208524",
   "metadata": {},
   "outputs": [
    {
     "data": {
      "text/html": [
       "<div>\n",
       "<style scoped>\n",
       "    .dataframe tbody tr th:only-of-type {\n",
       "        vertical-align: middle;\n",
       "    }\n",
       "\n",
       "    .dataframe tbody tr th {\n",
       "        vertical-align: top;\n",
       "    }\n",
       "\n",
       "    .dataframe thead th {\n",
       "        text-align: right;\n",
       "    }\n",
       "</style>\n",
       "<table border=\"1\" class=\"dataframe\">\n",
       "  <thead>\n",
       "    <tr style=\"text-align: right;\">\n",
       "      <th></th>\n",
       "      <th>label</th>\n",
       "      <th>bbox_area</th>\n",
       "      <th>solidity</th>\n",
       "      <th>centroid-0</th>\n",
       "      <th>centroid-1</th>\n",
       "      <th>orientation</th>\n",
       "      <th>convex_area</th>\n",
       "      <th>area</th>\n",
       "      <th>filled_area</th>\n",
       "      <th>eccentricity</th>\n",
       "      <th>...</th>\n",
       "      <th>euler_number</th>\n",
       "      <th>major_axis_length</th>\n",
       "      <th>feret_diameter_max</th>\n",
       "      <th>inertia_tensor-0-0</th>\n",
       "      <th>inertia_tensor-0-1</th>\n",
       "      <th>inertia_tensor-1-0</th>\n",
       "      <th>inertia_tensor-1-1</th>\n",
       "      <th>perimeter</th>\n",
       "      <th>perimeter_crofton</th>\n",
       "      <th>minor_axis_length</th>\n",
       "    </tr>\n",
       "  </thead>\n",
       "  <tbody>\n",
       "    <tr>\n",
       "      <th>0</th>\n",
       "      <td>1</td>\n",
       "      <td>7896</td>\n",
       "      <td>0.940696</td>\n",
       "      <td>100.711255</td>\n",
       "      <td>100.681148</td>\n",
       "      <td>-0.599551</td>\n",
       "      <td>5261</td>\n",
       "      <td>4949</td>\n",
       "      <td>4949</td>\n",
       "      <td>0.823653</td>\n",
       "      <td>...</td>\n",
       "      <td>1</td>\n",
       "      <td>106.621287</td>\n",
       "      <td>109.041277</td>\n",
       "      <td>381.969055</td>\n",
       "      <td>224.547917</td>\n",
       "      <td>224.547917</td>\n",
       "      <td>557.032609</td>\n",
       "      <td>302.391919</td>\n",
       "      <td>289.367033</td>\n",
       "      <td>60.464268</td>\n",
       "    </tr>\n",
       "  </tbody>\n",
       "</table>\n",
       "<p>1 rows × 21 columns</p>\n",
       "</div>"
      ],
      "text/plain": [
       "   label  bbox_area  solidity  centroid-0  centroid-1  orientation  \\\n",
       "0      1       7896  0.940696  100.711255  100.681148    -0.599551   \n",
       "\n",
       "   convex_area  area  filled_area  eccentricity  ...  euler_number  \\\n",
       "0         5261  4949         4949      0.823653  ...             1   \n",
       "\n",
       "   major_axis_length  feret_diameter_max  inertia_tensor-0-0  \\\n",
       "0         106.621287          109.041277          381.969055   \n",
       "\n",
       "   inertia_tensor-0-1  inertia_tensor-1-0  inertia_tensor-1-1   perimeter  \\\n",
       "0          224.547917          224.547917          557.032609  302.391919   \n",
       "\n",
       "   perimeter_crofton  minor_axis_length  \n",
       "0         289.367033          60.464268  \n",
       "\n",
       "[1 rows x 21 columns]"
      ]
     },
     "execution_count": 139,
     "metadata": {},
     "output_type": "execute_result"
    }
   ],
   "source": [
    "extract_props_from_image(mask)"
   ]
  },
  {
   "cell_type": "code",
   "execution_count": 141,
   "id": "68eaae1a-291b-49e5-803f-7e5211774f8f",
   "metadata": {},
   "outputs": [
    {
     "data": {
      "text/html": [
       "<div>\n",
       "<style scoped>\n",
       "    .dataframe tbody tr th:only-of-type {\n",
       "        vertical-align: middle;\n",
       "    }\n",
       "\n",
       "    .dataframe tbody tr th {\n",
       "        vertical-align: top;\n",
       "    }\n",
       "\n",
       "    .dataframe thead th {\n",
       "        text-align: right;\n",
       "    }\n",
       "</style>\n",
       "<table border=\"1\" class=\"dataframe\">\n",
       "  <thead>\n",
       "    <tr style=\"text-align: right;\">\n",
       "      <th></th>\n",
       "      <th>label</th>\n",
       "      <th>bbox_area</th>\n",
       "      <th>solidity</th>\n",
       "      <th>centroid-0</th>\n",
       "      <th>centroid-1</th>\n",
       "      <th>orientation</th>\n",
       "      <th>convex_area</th>\n",
       "      <th>area</th>\n",
       "      <th>filled_area</th>\n",
       "      <th>eccentricity</th>\n",
       "      <th>...</th>\n",
       "      <th>euler_number</th>\n",
       "      <th>major_axis_length</th>\n",
       "      <th>feret_diameter_max</th>\n",
       "      <th>inertia_tensor-0-0</th>\n",
       "      <th>inertia_tensor-0-1</th>\n",
       "      <th>inertia_tensor-1-0</th>\n",
       "      <th>inertia_tensor-1-1</th>\n",
       "      <th>perimeter</th>\n",
       "      <th>perimeter_crofton</th>\n",
       "      <th>minor_axis_length</th>\n",
       "    </tr>\n",
       "  </thead>\n",
       "  <tbody>\n",
       "    <tr>\n",
       "      <th>0</th>\n",
       "      <td>1</td>\n",
       "      <td>13780</td>\n",
       "      <td>0.834187</td>\n",
       "      <td>100.330263</td>\n",
       "      <td>100.245094</td>\n",
       "      <td>-0.92952</td>\n",
       "      <td>8980</td>\n",
       "      <td>7491</td>\n",
       "      <td>7491</td>\n",
       "      <td>0.842937</td>\n",
       "      <td>...</td>\n",
       "      <td>1</td>\n",
       "      <td>141.057937</td>\n",
       "      <td>157.292721</td>\n",
       "      <td>927.366975</td>\n",
       "      <td>423.582614</td>\n",
       "      <td>423.582614</td>\n",
       "      <td>676.181408</td>\n",
       "      <td>446.859956</td>\n",
       "      <td>426.331321</td>\n",
       "      <td>75.890925</td>\n",
       "    </tr>\n",
       "  </tbody>\n",
       "</table>\n",
       "<p>1 rows × 21 columns</p>\n",
       "</div>"
      ],
      "text/plain": [
       "   label  bbox_area  solidity  centroid-0  centroid-1  orientation  \\\n",
       "0      1      13780  0.834187  100.330263  100.245094     -0.92952   \n",
       "\n",
       "   convex_area  area  filled_area  eccentricity  ...  euler_number  \\\n",
       "0         8980  7491         7491      0.842937  ...             1   \n",
       "\n",
       "   major_axis_length  feret_diameter_max  inertia_tensor-0-0  \\\n",
       "0         141.057937          157.292721          927.366975   \n",
       "\n",
       "   inertia_tensor-0-1  inertia_tensor-1-0  inertia_tensor-1-1   perimeter  \\\n",
       "0          423.582614          423.582614          676.181408  446.859956   \n",
       "\n",
       "   perimeter_crofton  minor_axis_length  \n",
       "0         426.331321          75.890925  \n",
       "\n",
       "[1 rows x 21 columns]"
      ]
     },
     "execution_count": 141,
     "metadata": {},
     "output_type": "execute_result"
    }
   ],
   "source": [
    "extract_props_from_image(mask1)"
   ]
  },
  {
   "cell_type": "code",
   "execution_count": null,
   "id": "d01d0839-b081-4f1b-9bb3-955ba7714dc8",
   "metadata": {},
   "outputs": [],
   "source": []
  }
 ],
 "metadata": {
  "kernelspec": {
   "display_name": "Python 3",
   "language": "python",
   "name": "python3"
  },
  "language_info": {
   "codemirror_mode": {
    "name": "ipython",
    "version": 3
   },
   "file_extension": ".py",
   "mimetype": "text/x-python",
   "name": "python",
   "nbconvert_exporter": "python",
   "pygments_lexer": "ipython3",
   "version": "3.8.8"
  }
 },
 "nbformat": 4,
 "nbformat_minor": 5
}
